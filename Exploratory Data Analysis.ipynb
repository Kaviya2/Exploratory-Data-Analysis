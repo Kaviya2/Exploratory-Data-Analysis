{
  "nbformat": 4,
  "nbformat_minor": 0,
  "metadata": {
    "colab": {
      "name": "Untitled10.ipynb",
      "provenance": []
    },
    "kernelspec": {
      "name": "python3",
      "display_name": "Python 3"
    },
    "language_info": {
      "name": "python"
    }
  },
  "cells": [
    {
      "cell_type": "markdown",
      "metadata": {
        "id": "ypHuysBEDySH"
      },
      "source": [
        "**Exploratory data analysis (EDA)**"
      ]
    },
    {
      "cell_type": "markdown",
      "metadata": {
        "id": "H_9cOg3LD9t5"
      },
      "source": [
        "The purpose of this EDA is to find insights which will serve us later in another notebook for Data cleaning/preparation/transformation which will ultimately be used into a machine learning algorithm."
      ]
    },
    {
      "cell_type": "markdown",
      "metadata": {
        "id": "_Hv1QZjqEE47"
      },
      "source": [
        "![image.png](data:image/png;base64,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)"
      ]
    },
    {
      "cell_type": "markdown",
      "metadata": {
        "id": "7BWAipy3FWvP"
      },
      "source": [
        "**Preparations**\n",
        "\n",
        "For the preparations lets first import the necessary libraries and load the files needed for our EDA"
      ]
    },
    {
      "cell_type": "code",
      "metadata": {
        "id": "0RXg1cf2Fsh0"
      },
      "source": [
        "import pandas as pd\n",
        "import seaborn as sns\n",
        "import matplotlib.pyplot as plt\n",
        "\n",
        "# Comment this if the data visualisations doesn't work on your side\n",
        "%matplotlib inline\n",
        "\n",
        "plt.style.use('bmh')"
      ],
      "execution_count": 1,
      "outputs": []
    },
    {
      "cell_type": "code",
      "metadata": {
        "id": "SuJUVy56KTQ3"
      },
      "source": [
        "df = pd.read_csv('../input/train.csv')\n",
        "df.head()"
      ],
      "execution_count": null,
      "outputs": []
    },
    {
      "cell_type": "code",
      "metadata": {
        "id": "lSLVMDjoKW4O"
      },
      "source": [
        "df.info()"
      ],
      "execution_count": null,
      "outputs": []
    },
    {
      "cell_type": "markdown",
      "metadata": {
        "id": "8HpR3A-HGQDD"
      },
      "source": [
        "From these informations we can already see that some features won't be relevant in our exploratory analysis as there are too much missing values (such as Alley and PoolQC). Plus there is so much features to analyse that it may be better to concentrate on the ones which can give us real insights. Let's just remove Id and the features with 30% or less NaN values."
      ]
    },
    {
      "cell_type": "code",
      "metadata": {
        "id": "jAtJTPbjKdws"
      },
      "source": [
        "# df.count() does not include NaN values\n",
        "df2 = df[[column for column in df if df[column].count() / len(df) >= 0.3]]\n",
        "del df2['Id']\n",
        "print(\"List of dropped columns:\", end=\" \")\n",
        "for c in df.columns:\n",
        "    if c not in df2.columns:\n",
        "        print(c, end=\", \")\n",
        "print('\\n')\n",
        "df = df2"
      ],
      "execution_count": null,
      "outputs": []
    },
    {
      "cell_type": "code",
      "metadata": {
        "id": "_uBfOc-7KjOm"
      },
      "source": [
        "print(df['age'].describe())\n",
        "plt.figure(figsize=(9, 8))\n",
        "sns.distplot(df['age'], color='g', bins=100, hist_kws={'alpha': 0.4});"
      ],
      "execution_count": null,
      "outputs": []
    },
    {
      "cell_type": "markdown",
      "metadata": {
        "id": "pdGz5f-KG3bW"
      },
      "source": [
        "**Numerical data distribution**"
      ]
    },
    {
      "cell_type": "code",
      "metadata": {
        "id": "f0Em8gerFv7Q"
      },
      "source": [
        "list(set(df.dtypes.tolist()))"
      ],
      "execution_count": null,
      "outputs": []
    },
    {
      "cell_type": "code",
      "metadata": {
        "id": "Kgzu0tfLFwBP"
      },
      "source": [
        "df_num = df.select_dtypes(include = ['float64', 'int64'])\n",
        "df_num.head()"
      ],
      "execution_count": null,
      "outputs": []
    },
    {
      "cell_type": "code",
      "metadata": {
        "id": "itd1HVbsFwE_"
      },
      "source": [
        "df_num.hist(figsize=(16, 20), bins=50, xlabelsize=8, ylabelsize=8); # ; avoid having the matplotlib verbose informations"
      ],
      "execution_count": null,
      "outputs": []
    },
    {
      "cell_type": "markdown",
      "metadata": {
        "id": "ginLVL8kHkfN"
      },
      "source": [
        "**Correlation**"
      ]
    },
    {
      "cell_type": "code",
      "metadata": {
        "id": "PM7RzaaoFwIj"
      },
      "source": [
        "df_num_corr = df_num.corr()['age'][:-1] # -1 because the latest row is SalePrice\n",
        "golden_features_list = df_num_corr[abs(df_num_corr) > 0.5].sort_values(ascending=False)\n",
        "print(\"There is {} strongly correlated values with SalePrice:\\n{}\".format(len(golden_features_list), golden_features_list))"
      ],
      "execution_count": null,
      "outputs": []
    },
    {
      "cell_type": "code",
      "metadata": {
        "id": "_kla6t1DFwMU"
      },
      "source": [
        "for i in range(0, len(df_num.columns), 5):\n",
        "    sns.pairplot(data=df_num,\n",
        "                x_vars=df_num.columns[i:i+5],\n",
        "                y_vars=['age'])"
      ],
      "execution_count": null,
      "outputs": []
    },
    {
      "cell_type": "code",
      "metadata": {
        "id": "-C48zaGKH9jb"
      },
      "source": [
        "import operator\n",
        "\n",
        "individual_features_df = []\n",
        "for i in range(0, len(df_num.columns) - 1): # -1 because the last column is SalePrice\n",
        "    tmpDf = df_num[[df_num.columns[i], 'age']]\n",
        "    tmpDf = tmpDf[tmpDf[df_num.columns[i]] != 0]\n",
        "    individual_features_df.append(tmpDf)\n",
        "\n",
        "all_correlations = {feature.columns[0]: feature.corr()['age'][0] for feature in individual_features_df}\n",
        "all_correlations = sorted(all_correlations.items(), key=operator.itemgetter(1))\n",
        "for (key, value) in all_correlations:\n",
        "    print(\"{:>15}: {:>15}\".format(key, value))"
      ],
      "execution_count": null,
      "outputs": []
    },
    {
      "cell_type": "code",
      "metadata": {
        "id": "DsU8H9iQH90s"
      },
      "source": [
        "golden_features_list = [key for key, value in all_correlations if abs(value) >= 0.5]\n",
        "print(\"There is {} strongly correlated values with SalePrice:\\n{}\".format(len(golden_features_list), golden_features_list))"
      ],
      "execution_count": null,
      "outputs": []
    },
    {
      "cell_type": "markdown",
      "metadata": {
        "id": "XsOcqj2eISSu"
      },
      "source": [
        "**Conclusion**"
      ]
    },
    {
      "cell_type": "markdown",
      "metadata": {
        "id": "M3_eu2vuIYiI"
      },
      "source": [
        "**Feature to feature relationship**\n",
        "Trying to plot all the numerical features in a seaborn pairplot will take us too much time and will be hard to interpret. We can try to see if some variables are linked between each other and then explain their relation with common sense."
      ]
    },
    {
      "cell_type": "code",
      "metadata": {
        "id": "cE8t3VqcIhAe"
      },
      "source": [
        "corr = df_num.drop('Sage', axis=1).corr() # We already examined SalePrice correlations\n",
        "plt.figure(figsize=(12, 10))\n",
        "\n",
        "sns.heatmap(corr[(corr >= 0.5) | (corr <= -0.4)], \n",
        "            cmap='viridis', vmax=1.0, vmin=-1.0, linewidths=0.1,\n",
        "            annot=True, annot_kws={\"size\": 8}, square=True);"
      ],
      "execution_count": null,
      "outputs": []
    },
    {
      "cell_type": "markdown",
      "metadata": {
        "id": "L8wx1fobIs-B"
      },
      "source": [
        "**Q -> Q (Quantitative to Quantitative relationship)**"
      ]
    },
    {
      "cell_type": "code",
      "metadata": {
        "id": "UpNoMCFPIxfo"
      },
      "source": [
        "quantitative_features_list = ['LotFrontage', 'LotArea', 'MasVnrArea', 'BsmtFinSF1', 'BsmtFinSF2', 'TotalBsmtSF', '1stFlrSF',\n",
        "    '2ndFlrSF', 'LowQualFinSF', 'GrLivArea', 'BsmtFullBath', 'BsmtHalfBath', 'FullBath', 'HalfBath',\n",
        "    'BedroomAbvGr', 'KitchenAbvGr', 'TotRmsAbvGrd', 'Fireplaces', 'GarageCars', 'GarageArea', 'WoodDeckSF', 'OpenPorchSF', \n",
        "    'EnclosedPorch', '3SsnPorch', 'ScreenPorch', 'PoolArea', 'MiscVal', 'SalePrice']\n",
        "df_quantitative_values = df[quantitative_features_list]\n",
        "df_quantitative_values.head()"
      ],
      "execution_count": null,
      "outputs": []
    },
    {
      "cell_type": "code",
      "metadata": {
        "id": "70dG37eNI5h9"
      },
      "source": [
        "features_to_analyse = [x for x in quantitative_features_list if x in golden_features_list]\n",
        "features_to_analyse.append('age')\n",
        "features_to_analyse"
      ],
      "execution_count": null,
      "outputs": []
    },
    {
      "cell_type": "code",
      "metadata": {
        "id": "8wPtvVNcI9x2"
      },
      "source": [
        "fig, ax = plt.subplots(round(len(features_to_analyse) / 3), 3, figsize = (18, 12))\n",
        "\n",
        "for i, ax in enumerate(fig.axes):\n",
        "    if i < len(features_to_analyse) - 1:\n",
        "        sns.regplot(x=features_to_analyse[i],y='age', data=df[features_to_analyse], ax=ax)"
      ],
      "execution_count": null,
      "outputs": []
    },
    {
      "cell_type": "markdown",
      "metadata": {
        "id": "ufaQdV9zJCMD"
      },
      "source": [
        "**C -> Q (Categorical to Quantitative relationship)**"
      ]
    },
    {
      "cell_type": "code",
      "metadata": {
        "id": "dOa2fVTjJKMl"
      },
      "source": [
        "# quantitative_features_list[:-1] as the last column is SalePrice and we want to keep it\n",
        "categorical_features = [a for a in quantitative_features_list[:-1] + df.columns.tolist() if (a not in quantitative_features_list[:-1]) or (a not in df.columns.tolist())]\n",
        "df_categ = df[categorical_features]\n",
        "df_categ.head()"
      ],
      "execution_count": null,
      "outputs": []
    },
    {
      "cell_type": "code",
      "metadata": {
        "id": "023x28P7JPG4"
      },
      "source": [
        "df_not_num = df_categ.select_dtypes(include = ['O'])\n",
        "print('There is {} non numerical features including:\\n{}'.format(len(df_not_num.columns), df_not_num.columns.tolist()))"
      ],
      "execution_count": null,
      "outputs": []
    },
    {
      "cell_type": "code",
      "metadata": {
        "id": "gEj33L_zJTyn"
      },
      "source": [
        "plt.figure(figsize = (10, 6))\n",
        "ax = sns.boxplot(x='steroid', y='age', data=df_categ)\n",
        "plt.setp(ax.artists, alpha=.5, linewidth=2, edgecolor=\"k\")\n",
        "plt.xticks(rotation=45)"
      ],
      "execution_count": null,
      "outputs": []
    },
    {
      "cell_type": "code",
      "metadata": {
        "id": "R-RzceQyJlaO"
      },
      "source": [
        "plt.figure(figsize = (12, 6))\n",
        "ax = sns.boxplot(x='antivirals', y='age', data=df_categ)\n",
        "plt.setp(ax.artists, alpha=.5, linewidth=2, edgecolor=\"k\")\n",
        "plt.xticks(rotation=45)"
      ],
      "execution_count": null,
      "outputs": []
    },
    {
      "cell_type": "code",
      "metadata": {
        "id": "lSC2ow8kJtkf"
      },
      "source": [
        "fig, axes = plt.subplots(round(len(df_not_num.columns) / 3), 3, figsize=(12, 30))\n",
        "\n",
        "for i, ax in enumerate(fig.axes):\n",
        "    if i < len(df_not_num.columns):\n",
        "        ax.set_xticklabels(ax.xaxis.get_majorticklabels(), rotation=45)\n",
        "        sns.countplot(x=df_not_num.columns[i], alpha=0.7, data=df_not_num, ax=ax)\n",
        "\n",
        "fig.tight_layout()"
      ],
      "execution_count": null,
      "outputs": []
    }
  ]
}